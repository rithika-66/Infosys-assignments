{
 "cells": [
  {
   "cell_type": "code",
   "execution_count": 12,
   "id": "00f946c0",
   "metadata": {},
   "outputs": [
    {
     "name": "stdout",
     "output_type": "stream",
     "text": [
      "Defaulting to user installation because normal site-packages is not writeable\n",
      "Requirement already satisfied: selenium in c:\\users\\user\\appdata\\roaming\\python\\python39\\site-packages (4.27.1)\n",
      "Requirement already satisfied: urllib3[socks]<3,>=1.26 in c:\\programdata\\anaconda3\\lib\\site-packages (from selenium) (1.26.11)\n",
      "Requirement already satisfied: certifi>=2021.10.8 in c:\\programdata\\anaconda3\\lib\\site-packages (from selenium) (2022.9.14)\n",
      "Requirement already satisfied: typing_extensions~=4.9 in c:\\users\\user\\appdata\\roaming\\python\\python39\\site-packages (from selenium) (4.12.2)\n",
      "Requirement already satisfied: websocket-client~=1.8 in c:\\users\\user\\appdata\\roaming\\python\\python39\\site-packages (from selenium) (1.8.0)\n",
      "Requirement already satisfied: trio~=0.17 in c:\\users\\user\\appdata\\roaming\\python\\python39\\site-packages (from selenium) (0.27.0)\n",
      "Requirement already satisfied: trio-websocket~=0.9 in c:\\users\\user\\appdata\\roaming\\python\\python39\\site-packages (from selenium) (0.11.1)\n",
      "Requirement already satisfied: exceptiongroup in c:\\users\\user\\appdata\\roaming\\python\\python39\\site-packages (from trio~=0.17->selenium) (1.2.2)\n",
      "Requirement already satisfied: outcome in c:\\users\\user\\appdata\\roaming\\python\\python39\\site-packages (from trio~=0.17->selenium) (1.3.0.post0)\n",
      "Requirement already satisfied: cffi>=1.14 in c:\\programdata\\anaconda3\\lib\\site-packages (from trio~=0.17->selenium) (1.15.1)\n",
      "Requirement already satisfied: idna in c:\\programdata\\anaconda3\\lib\\site-packages (from trio~=0.17->selenium) (3.3)\n",
      "Requirement already satisfied: sniffio>=1.3.0 in c:\\users\\user\\appdata\\roaming\\python\\python39\\site-packages (from trio~=0.17->selenium) (1.3.1)\n",
      "Requirement already satisfied: attrs>=23.2.0 in c:\\users\\user\\appdata\\roaming\\python\\python39\\site-packages (from trio~=0.17->selenium) (24.3.0)\n",
      "Requirement already satisfied: sortedcontainers in c:\\programdata\\anaconda3\\lib\\site-packages (from trio~=0.17->selenium) (2.4.0)\n",
      "Requirement already satisfied: wsproto>=0.14 in c:\\users\\user\\appdata\\roaming\\python\\python39\\site-packages (from trio-websocket~=0.9->selenium) (1.2.0)\n",
      "Requirement already satisfied: PySocks!=1.5.7,<2.0,>=1.5.6 in c:\\programdata\\anaconda3\\lib\\site-packages (from urllib3[socks]<3,>=1.26->selenium) (1.7.1)\n",
      "Requirement already satisfied: pycparser in c:\\programdata\\anaconda3\\lib\\site-packages (from cffi>=1.14->trio~=0.17->selenium) (2.21)\n",
      "Requirement already satisfied: h11<1,>=0.9.0 in c:\\users\\user\\appdata\\roaming\\python\\python39\\site-packages (from wsproto>=0.14->trio-websocket~=0.9->selenium) (0.14.0)\n",
      "Defaulting to user installation because normal site-packages is not writeable\n",
      "Requirement already satisfied: pandas in c:\\programdata\\anaconda3\\lib\\site-packages (1.4.4)\n",
      "Requirement already satisfied: python-dateutil>=2.8.1 in c:\\programdata\\anaconda3\\lib\\site-packages (from pandas) (2.8.2)\n",
      "Requirement already satisfied: pytz>=2020.1 in c:\\programdata\\anaconda3\\lib\\site-packages (from pandas) (2022.1)\n",
      "Requirement already satisfied: numpy>=1.18.5 in c:\\programdata\\anaconda3\\lib\\site-packages (from pandas) (1.21.5)\n",
      "Requirement already satisfied: six>=1.5 in c:\\programdata\\anaconda3\\lib\\site-packages (from python-dateutil>=2.8.1->pandas) (1.16.0)\n"
     ]
    }
   ],
   "source": [
    "!pip install selenium\n",
    "!pip install pandas"
   ]
  },
  {
   "cell_type": "code",
   "execution_count": 13,
   "id": "834d036e",
   "metadata": {},
   "outputs": [],
   "source": [
    "import selenium"
   ]
  },
  {
   "cell_type": "code",
   "execution_count": 14,
   "id": "ce7946c0",
   "metadata": {},
   "outputs": [],
   "source": [
    "from selenium import webdriver\n",
    "import pandas as pd\n",
    "from selenium.webdriver.common.keys import Keys\n",
    "from selenium.webdriver.common.by import By\n",
    "\n",
    "\n",
    "driver = webdriver.Chrome()\n",
    "url=\"https://www.youtube.com/@NetflixIndiaOfficial/videos\"\n",
    "driver.get(url)"
   ]
  },
  {
   "cell_type": "code",
   "execution_count": 17,
   "id": "25f079d7",
   "metadata": {},
   "outputs": [
    {
     "name": "stdout",
     "output_type": "stream",
     "text": [
      "                                                Title     Views     Uploaded\n",
      "0   Gi-hun Won ₹287.28 Crores but STILL LOST? | Sq...  8K views  2 hours ago\n",
      "1   Meet THE REAL Honey Singh | Yo Yo Honey Singh:...  8K views  2 hours ago\n",
      "2   ⁠Akshay Kumar ALMOST Gets Caught Cheating! 👀 f...  8K views  2 hours ago\n",
      "3   Black Warrant | Official Teaser | Vikramaditya...  8K views  2 hours ago\n",
      "4   The Electric State | Official Trailer | Netfli...  8K views  2 hours ago\n",
      "5   The Electric State | Official Trailer | Hindi ...  8K views  2 hours ago\n",
      "6   Squid Game’s Deadliest Final Fight REVEALED! |...  8K views  2 hours ago\n",
      "7   Jimmy Shergill's UNEXPECTED Phone-Call Left Av...  8K views  2 hours ago\n",
      "8   Rohit-Prajakta VS Taaruk-Ahsaas:The ULTIMATE C...  8K views  2 hours ago\n",
      "9   Rohit Sharma CAN'T STOP Laughing at these WILD...  8K views  2 hours ago\n",
      "10  Prajakta Koli's ADORABLE SURPISE for Rohit Sar...  8K views  2 hours ago\n",
      "11  Hanumankind – The Game Don’t Stop | Squid Game...  8K views  2 hours ago\n",
      "12  Alia Bhatt RISKS her life for her Jigra ft. Ve...  8K views  2 hours ago\n",
      "13  Vijay Raaz PROPOSES to Mallika Sherawat.. and ...  8K views  2 hours ago\n",
      "14  Sunil Grover's HILARIOUS Mimicry of SRK in Jaw...  8K views  2 hours ago\n",
      "15  THE ADULTING CHALLENGE Ft. Mismatched Cast | P...  8K views  2 hours ago\n",
      "16  Sai Pallavi & Sivakarthikeyan’s MAGICAL Love S...  8K views  2 hours ago\n",
      "17  Mallika Sherawat’s MOST Awkward Interview With...  8K views  2 hours ago\n",
      "18  Sunil Grover's EPIC Siddhu Paaji Mimicry 😂 Ft....  8K views  2 hours ago\n",
      "19  Rohit Saraf & Prajakta Koli's CUTE (Non) Date ...  8K views  2 hours ago\n",
      "20  Alia Bhatt turns BACHCHAN to Protect her broth...  8K views  2 hours ago\n",
      "21  Sivakarthikeyan as Major Mukund: The Face of t...  8K views  2 hours ago\n",
      "22  Karthi’s Bull DHONI Wins Jallikattu! 🐂🔥 Ft. Ar...  8K views  2 hours ago\n",
      "23  Action & Entertainment Mode ON | Varun Dhawan,...  8K views  2 hours ago\n",
      "24  Yeh Kaali Kaali Ankhein | Season 3 Coming Soon...  8K views  2 hours ago\n",
      "25  Squid Game : The Revisit ft. @OnlyDesi | Netfl...  8K views  2 hours ago\n",
      "26  Krushna & Kiku's FUNNIEST Alia Bhatt Mimicry 😂...  8K views  2 hours ago\n",
      "27  Yo Yo Honey Singh: Famous | Official Trailer |...  8K views  2 hours ago\n",
      "28  Bassi & Kapil Sharma REVEAL Comedy Secrets, On...  8K views  2 hours ago\n",
      "29  Triptii Dimri & Rajkummar Rao Try CHEESY Pick ...  8K views  2 hours ago\n"
     ]
    }
   ],
   "source": [
    "import pandas as pd\n",
    "from selenium.webdriver.common.by import By\n",
    "\n",
    "\n",
    "video_list = []\n",
    "\n",
    "videos = driver.find_elements(By.CLASS_NAME, 'style-scope ytd-rich-grid-media')\n",
    "\n",
    "for video in videos:\n",
    "    title = video.find_element(By.XPATH, './/*[@id=\"video-title\"]').text\n",
    "    views = video.find_element(By.XPATH, '//*[@id=\"metadata-line\"]/span[1]').text\n",
    "    when = video.find_element(By.XPATH, '//*[@id=\"metadata-line\"]/span[2]').text\n",
    "    vid_item = {\"Title\": title, \"Views\": views, \"Uploaded\": when}\n",
    "    video_list.append(vid_item)\n",
    "df = pd.DataFrame(video_list)\n",
    "print(df)\n"
   ]
  },
  {
   "cell_type": "code",
   "execution_count": null,
   "id": "41278296",
   "metadata": {},
   "outputs": [],
   "source": []
  }
 ],
 "metadata": {
  "kernelspec": {
   "display_name": "Python 3 (ipykernel)",
   "language": "python",
   "name": "python3"
  },
  "language_info": {
   "codemirror_mode": {
    "name": "ipython",
    "version": 3
   },
   "file_extension": ".py",
   "mimetype": "text/x-python",
   "name": "python",
   "nbconvert_exporter": "python",
   "pygments_lexer": "ipython3",
   "version": "3.9.13"
  }
 },
 "nbformat": 4,
 "nbformat_minor": 5
}
